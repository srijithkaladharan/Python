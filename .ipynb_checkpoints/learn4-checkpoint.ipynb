{
 "cells": [
  {
   "cell_type": "markdown",
   "metadata": {},
   "source": [
    "# Stack   -- LIFO/FILO"
   ]
  },
  {
   "cell_type": "code",
   "execution_count": 23,
   "metadata": {},
   "outputs": [],
   "source": [
    "class Stack:\n",
    "    \n",
    "    def __init__(self):\n",
    "        self.stack = []\n",
    "        \n",
    "    def add(self, data):\n",
    "        if (data not in self.stack):\n",
    "            self.stack.append(data)\n",
    "            return True\n",
    "        else:\n",
    "            return False\n",
    "\n",
    "    def peek(self):\n",
    "        return self.stack[-1]\n",
    "    \n",
    "    def pop(self):\n",
    "        if(len(self.stack) <= 0):\n",
    "            return \"Stack is already empty\"\n",
    "        else:\n",
    "            return self.stack.pop()\n",
    "        \n",
    "    def printStack(self):\n",
    "        print(self.stack)"
   ]
  },
  {
   "cell_type": "code",
   "execution_count": 24,
   "metadata": {},
   "outputs": [
    {
     "data": {
      "text/plain": [
       "True"
      ]
     },
     "execution_count": 24,
     "metadata": {},
     "output_type": "execute_result"
    }
   ],
   "source": [
    "AStack = Stack()\n",
    "\n",
    "AStack.add(\"Mon\")"
   ]
  },
  {
   "cell_type": "code",
   "execution_count": 25,
   "metadata": {},
   "outputs": [
    {
     "data": {
      "text/plain": [
       "False"
      ]
     },
     "execution_count": 25,
     "metadata": {},
     "output_type": "execute_result"
    }
   ],
   "source": [
    "AStack.add(\"Mon\")"
   ]
  },
  {
   "cell_type": "code",
   "execution_count": 26,
   "metadata": {},
   "outputs": [
    {
     "data": {
      "text/plain": [
       "'Mon'"
      ]
     },
     "execution_count": 26,
     "metadata": {},
     "output_type": "execute_result"
    }
   ],
   "source": [
    "AStack.peek()"
   ]
  },
  {
   "cell_type": "code",
   "execution_count": 27,
   "metadata": {},
   "outputs": [
    {
     "data": {
      "text/plain": [
       "'Thu'"
      ]
     },
     "execution_count": 27,
     "metadata": {},
     "output_type": "execute_result"
    }
   ],
   "source": [
    "AStack.add(\"Tue\")\n",
    "AStack.add(\"Wed\")\n",
    "AStack.add(\"Thu\")\n",
    "\n",
    "AStack.peek()"
   ]
  },
  {
   "cell_type": "code",
   "execution_count": 28,
   "metadata": {},
   "outputs": [
    {
     "data": {
      "text/plain": [
       "'Thu'"
      ]
     },
     "execution_count": 28,
     "metadata": {},
     "output_type": "execute_result"
    }
   ],
   "source": [
    "AStack.pop()"
   ]
  },
  {
   "cell_type": "code",
   "execution_count": 29,
   "metadata": {},
   "outputs": [
    {
     "name": "stdout",
     "output_type": "stream",
     "text": [
      "['Mon', 'Tue', 'Wed']\n"
     ]
    }
   ],
   "source": [
    "AStack.printStack()"
   ]
  },
  {
   "cell_type": "markdown",
   "metadata": {},
   "source": [
    "---------------------------------------------------------------------------"
   ]
  },
  {
   "cell_type": "markdown",
   "metadata": {},
   "source": [
    "# QUEUE  --- FIFO/LILO"
   ]
  },
  {
   "cell_type": "code",
   "execution_count": 43,
   "metadata": {},
   "outputs": [],
   "source": [
    "class Queue:\n",
    "    \n",
    "    def __init__(self):\n",
    "        self.queue = list()\n",
    "        \n",
    "    def add(self,data):\n",
    "        if data not in self.queue:\n",
    "            self.queue.insert(0,data)\n",
    "            return True\n",
    "        return False\n",
    "    \n",
    "    def pop(self):\n",
    "        if len(self.queue) > 0:\n",
    "            return self.queue.pop()\n",
    "        return \"Queue is empty\"\n",
    "    \n",
    "    def printQueue(self):\n",
    "        print(self.queue)\n",
    "    "
   ]
  },
  {
   "cell_type": "code",
   "execution_count": 44,
   "metadata": {},
   "outputs": [
    {
     "data": {
      "text/plain": [
       "True"
      ]
     },
     "execution_count": 44,
     "metadata": {},
     "output_type": "execute_result"
    }
   ],
   "source": [
    "q = Queue()\n",
    "\n",
    "q.add(\"Mon\")\n",
    "q.add(\"Tue\")\n",
    "q.add(\"Wed\")"
   ]
  },
  {
   "cell_type": "code",
   "execution_count": 45,
   "metadata": {},
   "outputs": [
    {
     "name": "stdout",
     "output_type": "stream",
     "text": [
      "['Wed', 'Tue', 'Mon']\n"
     ]
    }
   ],
   "source": [
    "q.printQueue()"
   ]
  },
  {
   "cell_type": "code",
   "execution_count": 46,
   "metadata": {},
   "outputs": [
    {
     "data": {
      "text/plain": [
       "'Mon'"
      ]
     },
     "execution_count": 46,
     "metadata": {},
     "output_type": "execute_result"
    }
   ],
   "source": [
    "q.pop()"
   ]
  },
  {
   "cell_type": "markdown",
   "metadata": {},
   "source": [
    "----------------------------------------------------------------"
   ]
  },
  {
   "cell_type": "code",
   "execution_count": 47,
   "metadata": {},
   "outputs": [],
   "source": [
    "import collections as cols"
   ]
  },
  {
   "cell_type": "code",
   "execution_count": 50,
   "metadata": {},
   "outputs": [
    {
     "name": "stdout",
     "output_type": "stream",
     "text": [
      "deque(['Mon', 'Tue', 'Wed'])\n"
     ]
    }
   ],
   "source": [
    "dq = cols.deque([\"Mon\",\"Tue\",\"Wed\"])    # create Deque\n",
    "\n",
    "print(dq)"
   ]
  },
  {
   "cell_type": "code",
   "execution_count": 52,
   "metadata": {},
   "outputs": [
    {
     "name": "stdout",
     "output_type": "stream",
     "text": [
      "deque(['Mon', 'Tue', 'Wed', 'Thu', 'Thu'])\n"
     ]
    }
   ],
   "source": [
    "dq.append(\"Thu\")\n",
    "\n",
    "print(dq)"
   ]
  },
  {
   "cell_type": "code",
   "execution_count": 54,
   "metadata": {},
   "outputs": [
    {
     "name": "stdout",
     "output_type": "stream",
     "text": [
      "deque(['Mon', 'Tue', 'Wed'])\n"
     ]
    }
   ],
   "source": [
    "dq.pop()\n",
    "\n",
    "print(dq)"
   ]
  },
  {
   "cell_type": "code",
   "execution_count": 55,
   "metadata": {},
   "outputs": [
    {
     "name": "stdout",
     "output_type": "stream",
     "text": [
      "deque(['Tue', 'Wed'])\n"
     ]
    }
   ],
   "source": [
    "dq.popleft()\n",
    "\n",
    "print(dq)"
   ]
  },
  {
   "cell_type": "code",
   "execution_count": 56,
   "metadata": {},
   "outputs": [],
   "source": [
    "dq.appendleft(\"Mon\")"
   ]
  },
  {
   "cell_type": "code",
   "execution_count": 57,
   "metadata": {},
   "outputs": [
    {
     "name": "stdout",
     "output_type": "stream",
     "text": [
      "deque(['Mon', 'Tue', 'Wed'])\n"
     ]
    }
   ],
   "source": [
    "print(dq)"
   ]
  },
  {
   "cell_type": "raw",
   "metadata": {},
   "source": [
    "learn doubly linked list from Tutorials point \n",
    "https://www.tutorialspoint.com/python_data_structure/python_advanced_linked_list.htm"
   ]
  },
  {
   "cell_type": "code",
   "execution_count": null,
   "metadata": {},
   "outputs": [],
   "source": []
  }
 ],
 "metadata": {
  "kernelspec": {
   "display_name": "Python 3",
   "language": "python",
   "name": "python3"
  },
  "language_info": {
   "codemirror_mode": {
    "name": "ipython",
    "version": 3
   },
   "file_extension": ".py",
   "mimetype": "text/x-python",
   "name": "python",
   "nbconvert_exporter": "python",
   "pygments_lexer": "ipython3",
   "version": "3.7.4"
  }
 },
 "nbformat": 4,
 "nbformat_minor": 2
}
