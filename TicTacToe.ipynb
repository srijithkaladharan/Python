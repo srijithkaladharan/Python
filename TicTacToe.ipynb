{
 "cells": [
  {
   "cell_type": "code",
   "execution_count": 1,
   "metadata": {},
   "outputs": [],
   "source": [
    "from IPython.display import clear_output\n",
    "\n",
    "\n",
    "def display_board(board,clear=False):\n",
    "    if clear:\n",
    "        clear_output()\n",
    "    print(board[7] +'|'+board[8]+'|'+board[9])\n",
    "    print(board[4] +'|'+board[5]+'|'+board[6])\n",
    "    print(board[1] +'|'+board[2]+'|'+board[3])\n",
    "    "
   ]
  },
  {
   "cell_type": "code",
   "execution_count": 2,
   "metadata": {},
   "outputs": [],
   "source": [
    "board_values = ['#','1','2','3','4','5','6','7','8','9']\n",
    "win_comb = [{1,4,7},{1,5,9},{1,2,3},{2,5,8},{3,6,9},{3,5,7},{4,5,6},{7,8,9}]\n",
    "winner=''\n",
    "win_status = False\n",
    "current_player = 1\n",
    "players=[]"
   ]
  },
  {
   "cell_type": "code",
   "execution_count": 3,
   "metadata": {
    "scrolled": true
   },
   "outputs": [],
   "source": [
    "def player_input(prompt='Player-1 choose your mark - X or O : '):\n",
    "    global players\n",
    "    \n",
    "    player1 = input(prompt).upper()\n",
    "    #valid = \n",
    "    if validate_input(player1):\n",
    "        if player1 == 'X':\n",
    "            player2 = 'O'\n",
    "        else:\n",
    "            player2 = 'X'\n",
    "        print(f'Player1 takes {player1} and Player2 takes {player2}')\n",
    "        print('\\n')\n",
    "        print('Let the game begin')\n",
    "        display_board(board_values)\n",
    "        players = [player1,player2]\n",
    "    else:\n",
    "        player_input('Enter a valid Mark - X or O : ')\n",
    "    \n",
    "\n",
    "    \n",
    "def validate_input(val):\n",
    "    if val!='X' and val!='O':\n",
    "        return False\n",
    "    else:\n",
    "        return True"
   ]
  },
  {
   "cell_type": "code",
   "execution_count": 4,
   "metadata": {},
   "outputs": [],
   "source": [
    "def win_check(mark):\n",
    "    \n",
    "    player_pos = []\n",
    "    global win_status\n",
    "    global winner\n",
    "    \n",
    "    for ind in range(len(board_values)):\n",
    "        if (board_values[ind] == mark):   \n",
    "            player_pos.append(ind)      \n",
    "        \n",
    "    player_pos = set(player_pos)\n",
    "    count = 0\n",
    "    count_list = []\n",
    "\n",
    "    for comb in win_comb:\n",
    "        for val in comb:\n",
    "            for pos in player_pos:\n",
    "                if pos == val:\n",
    "                    count += 1\n",
    "        count_list.append(count)\n",
    "        count = 0\n",
    "    \n",
    "    for c in count_list:\n",
    "        if c == 3:\n",
    "            if mark == players[0]:\n",
    "                winner = 'Bravo!! Player1 has won the game..'\n",
    "            else:\n",
    "                winner = 'Bravo!! Player2 has won the game..'\n",
    "            win_status = True  \n",
    "            \n"
   ]
  },
  {
   "cell_type": "code",
   "execution_count": 5,
   "metadata": {},
   "outputs": [],
   "source": [
    "def tie_check():\n",
    "    global winner\n",
    "    global win_status\n",
    "    global game_run\n",
    "    count=0\n",
    "    for val in board_values:\n",
    "        if val == 'X' or val == 'O':\n",
    "            count += 1\n",
    "    if count == 8:\n",
    "        winner = \"Match Tied!!\"\n",
    "        win_status = True"
   ]
  },
  {
   "cell_type": "code",
   "execution_count": 6,
   "metadata": {},
   "outputs": [],
   "source": [
    "def enter_mark(prompt,mark,player):\n",
    "    position = int(input(prompt))\n",
    "    if board_values[position] != 'X' and board_values[position] != 'O':\n",
    "        plot_mark(mark,position)\n",
    "    else:\n",
    "        pmpt = 'The position you selected is already plotted..  ' + player +' select another position'\n",
    "        enter_mark(pmpt,mark,player)\n",
    "        "
   ]
  },
  {
   "cell_type": "code",
   "execution_count": 7,
   "metadata": {},
   "outputs": [],
   "source": [
    "def plot_mark(mark,position):\n",
    "    global current_player\n",
    "    global board_values\n",
    "    \n",
    "    board_values[position] = mark\n",
    "    if(mark == players[0]):\n",
    "        current_player = 2\n",
    "    elif(mark == players[1]):\n",
    "        current_player = 1\n",
    "    display_board(board_values,False)\n",
    "\n",
    "    win_check(mark)\n",
    "    tie_check()"
   ]
  },
  {
   "cell_type": "code",
   "execution_count": 8,
   "metadata": {},
   "outputs": [],
   "source": [
    "def play_game():\n",
    "    global win_status\n",
    "    \n",
    "    player_input()\n",
    "        \n",
    "    while players and win_status == False:\n",
    "        if current_player == 1:\n",
    "            prompt = 'Player1 enter your position to mark ' + players[0] + ' : '\n",
    "            mark = players[0]\n",
    "            player = 'Player1'\n",
    "            enter_mark(prompt,mark,player)\n",
    "        else:\n",
    "            prompt = 'Player1 enter your position to mark ' + players[1] + ' : '\n",
    "            mark = players[1]\n",
    "            player = 'Player2'\n",
    "            enter_mark(prompt,mark,player)\n",
    "        \n",
    "    if win_status:\n",
    "        print(winner)\n",
    "        \n",
    "        replay = input('Mate!! Would you like to replay?? Y or N : ')\n",
    "        if replay=='Y':\n",
    "            clear_output()\n",
    "            play_game()\n",
    "        else:\n",
    "            print('Thanks Mate.. See you soon!!')\n",
    "    "
   ]
  },
  {
   "cell_type": "code",
   "execution_count": null,
   "metadata": {},
   "outputs": [
    {
     "name": "stdout",
     "output_type": "stream",
     "text": [
      "Player-1 choose your mark - X or O : x\n",
      "Player1 takes X and Player2 takes O\n",
      "\n",
      "\n",
      "Let the game begin\n",
      "7|8|9\n",
      "4|5|6\n",
      "1|2|3\n",
      "Player1 enter your position to mark X : 5\n",
      "7|8|9\n",
      "4|X|6\n",
      "1|2|3\n",
      "[0, 1, 0, 1, 0, 1, 1, 0]\n"
     ]
    }
   ],
   "source": [
    "play_game()"
   ]
  },
  {
   "cell_type": "code",
   "execution_count": null,
   "metadata": {},
   "outputs": [],
   "source": []
  }
 ],
 "metadata": {
  "kernelspec": {
   "display_name": "Python 3",
   "language": "python",
   "name": "python3"
  },
  "language_info": {
   "codemirror_mode": {
    "name": "ipython",
    "version": 3
   },
   "file_extension": ".py",
   "mimetype": "text/x-python",
   "name": "python",
   "nbconvert_exporter": "python",
   "pygments_lexer": "ipython3",
   "version": "3.7.3"
  }
 },
 "nbformat": 4,
 "nbformat_minor": 2
}
